{
 "cells": [
  {
   "cell_type": "markdown",
   "id": "3bae4ba4",
   "metadata": {},
   "source": [
    "#### Efetuando Extração de texto do Youtube"
   ]
  },
  {
   "cell_type": "code",
   "execution_count": 1,
   "id": "24b11428",
   "metadata": {},
   "outputs": [],
   "source": [
    "# !pip install selenium webdriver-manager"
   ]
  },
  {
   "cell_type": "code",
   "execution_count": 2,
   "id": "9734faa2",
   "metadata": {},
   "outputs": [
    {
     "name": "stdout",
     "output_type": "stream",
     "text": [
      "\n",
      "🎬 TÍTULO DO VÍDEO: \n",
      "\n",
      "✅ 704 comentários salvos em 'comentarios_extraidos.json'\n"
     ]
    }
   ],
   "source": [
    "import json\n",
    "import io\n",
    "import time\n",
    "from selenium import webdriver\n",
    "from selenium.common import exceptions\n",
    "from selenium.webdriver.common.by import By\n",
    "from selenium.webdriver.chrome.service import Service\n",
    "from webdriver_manager.chrome import ChromeDriverManager\n",
    "\n",
    "def scrape_youtube_comments(url):\n",
    "    \"\"\"\n",
    "    Extrai os comentários do vídeo do YouTube fornecido pela URL\n",
    "    e salva o resultado em 'comentarios_extraidos.json'.\n",
    "    \n",
    "    Args:\n",
    "        url (str): URL do vídeo do YouTube.\n",
    "    \"\"\"\n",
    "    # Configuração do Chrome com modo headless\n",
    "    options = webdriver.ChromeOptions()\n",
    "    options.add_argument(\"--headless\")\n",
    "    options.add_argument(\"--disable-gpu\")\n",
    "    options.add_argument(\"--no-sandbox\")\n",
    "    options.add_argument(\"--window-size=1920,1080\")\n",
    "\n",
    "    driver = webdriver.Chrome(service=Service(ChromeDriverManager().install()), options=options)\n",
    "\n",
    "    driver.get(url)\n",
    "    time.sleep(5)\n",
    "\n",
    "    try:\n",
    "        title = driver.find_element(By.XPATH, '//*[@id=\"container\"]/h1/yt-formatted-string').text\n",
    "        comment_section = driver.find_element(By.XPATH, '//*[@id=\"comments\"]')\n",
    "    except exceptions.NoSuchElementException:\n",
    "        print(\"❌ Erro: Verifique os seletores ou aguarde mais tempo para carregar os elementos.\")\n",
    "        driver.quit()\n",
    "        return\n",
    "\n",
    "    driver.execute_script(\"arguments[0].scrollIntoView();\", comment_section)\n",
    "    time.sleep(7)\n",
    "\n",
    "    last_height = driver.execute_script(\"return document.documentElement.scrollHeight\")\n",
    "    while True:\n",
    "        driver.execute_script(\"window.scrollTo(0, document.documentElement.scrollHeight);\")\n",
    "        time.sleep(2)\n",
    "        new_height = driver.execute_script(\"return document.documentElement.scrollHeight\")\n",
    "        if new_height == last_height:\n",
    "            break\n",
    "        last_height = new_height\n",
    "\n",
    "    driver.execute_script(\"window.scrollTo(0, document.documentElement.scrollHeight);\")\n",
    "\n",
    "    try:\n",
    "        username_elems = driver.find_elements(By.XPATH, '//*[@id=\"author-text\"]')\n",
    "        comment_elems = driver.find_elements(By.XPATH, '//*[@id=\"content-text\"]')\n",
    "    except exceptions.NoSuchElementException:\n",
    "        print(\"❌ Erro: Não foi possível encontrar os elementos dos comentários.\")\n",
    "        driver.quit()\n",
    "        return\n",
    "\n",
    "    print(f\"\\n🎬 TÍTULO DO VÍDEO: {title}\\n\")\n",
    "\n",
    "    comentarios_extraidos = []\n",
    "    for username, comment in zip(username_elems, comment_elems):\n",
    "        comentarios_extraidos.append({\n",
    "            \"usuario\": username.text.strip(),\n",
    "            \"comentario\": comment.text.strip()\n",
    "        })\n",
    "\n",
    "    with io.open(\"comentarios_extraidos.json\", \"w\", encoding=\"utf-8\") as json_file:\n",
    "        json.dump(comentarios_extraidos, json_file, indent=4, ensure_ascii=False)\n",
    "\n",
    "    print(f\"✅ {len(comentarios_extraidos)} comentários salvos em 'comentarios_extraidos.json'\")\n",
    "    driver.quit()\n",
    "\n",
    "\n",
    "# === CELULAR DE EXECUÇÃO NO JUPYTER ===\n",
    "# Você pode colar isso numa célula e executar:\n",
    "video_url = input(\"🔗 Cole a URL do vídeo do YouTube: \").strip()\n",
    "scrape_youtube_comments(video_url)\n",
    "# === FIM DO CÓDIGO ==="
   ]
  },
  {
   "cell_type": "markdown",
   "id": "2f9832c0",
   "metadata": {},
   "source": [
    "#### Instalação das Bibliotecas"
   ]
  },
  {
   "cell_type": "code",
   "execution_count": 3,
   "id": "7d495a62",
   "metadata": {},
   "outputs": [],
   "source": [
    "# !pip install transformers"
   ]
  },
  {
   "cell_type": "code",
   "execution_count": 4,
   "id": "8bb24bda",
   "metadata": {},
   "outputs": [],
   "source": [
    "# !pip install torch"
   ]
  },
  {
   "cell_type": "code",
   "execution_count": 5,
   "id": "1f8f498d",
   "metadata": {},
   "outputs": [],
   "source": [
    "# !pip install torch torchvision torchaudio --index-url https://download.pytorch.org/whl/cpu\n",
    "# !pip install transformers\n",
    "# !pip install ipywidgets tqdm\n",
    "# jupyter nbextension enable --py widgetsnbextension --sys-prefix"
   ]
  },
  {
   "cell_type": "markdown",
   "id": "f96cfb36",
   "metadata": {},
   "source": [
    "#### Análise de Sentimentos dos Comentários Extraídos"
   ]
  },
  {
   "cell_type": "code",
   "execution_count": 6,
   "id": "f12474bf",
   "metadata": {},
   "outputs": [
    {
     "name": "stderr",
     "output_type": "stream",
     "text": [
      "Device set to use cpu\n",
      "Analisando sentimentos: 100%|██████████| 704/704 [02:10<00:00,  5.38it/s]"
     ]
    },
    {
     "name": "stdout",
     "output_type": "stream",
     "text": [
      "Usuário: @Deanpy\n",
      "Comentário: 1:43  O Jonathan kent voltou a ser um homem que apoia seu filho a fazer o melhor, finalmente!!\n",
      "Sentimento: positive (score: 1.00)\n",
      "\n",
      "Usuário: @FabiojuniorPereiradossan-qx4vk\n",
      "Comentário: Isso que é filme \n",
      "\n",
      "\n",
      "Hypado para o filme, o Superman voltou.\n",
      "Sentimento: neutral (score: 0.89)\n",
      "\n",
      "Usuário: @claudioeduardo5878\n",
      "Comentário: Só pela trilha sonora clássica já fiquei muito na expectativa\n",
      "Sentimento: positive (score: 0.98)\n",
      "\n",
      "Usuário: @giovannacosta2773\n",
      "Comentário: Detalhe, o superman nao precisa de ajuda pra se levantar, porém, ele aceitou a ajuda de um humano. Amei!\n",
      "Sentimento: positive (score: 0.99)\n",
      "\n",
      "Usuário: @andreflorenciotorres349\n",
      "Comentário: Parece que, depois de muitos anos, vou ao cinema assistir a um genuíno filme de super-heroi. O maior de todos. E desta vez, com todas as cores.\n",
      "Sentimento: positive (score: 0.99)\n",
      "\n"
     ]
    },
    {
     "name": "stderr",
     "output_type": "stream",
     "text": [
      "\n"
     ]
    }
   ],
   "source": [
    "import json\n",
    "from transformers import pipeline\n",
    "from tqdm import tqdm  # barra de progresso (opcional, mas útil)\n",
    "\n",
    "# 1. Carrega os comentários do JSON\n",
    "with open(\"comentarios_extraidos.json\", \"r\", encoding=\"utf-8\") as f:\n",
    "    comentarios = json.load(f)\n",
    "\n",
    "# 2. Inicializa o pipeline de análise de sentimentos\n",
    "sentiment_pipe = pipeline(\"text-classification\", model=\"Adilmar/caramelo-smile-2\")\n",
    "\n",
    "# 3. Analisa cada comentário\n",
    "comentarios_com_sentimento = []\n",
    "\n",
    "for item in tqdm(comentarios, desc=\"Analisando sentimentos\"):\n",
    "    texto = item[\"comentario\"]\n",
    "    resultado = sentiment_pipe(texto[:512])  # Limita a 512 tokens para evitar erro\n",
    "    item[\"sentimento\"] = resultado[0][\"label\"]\n",
    "    item[\"score\"] = resultado[0][\"score\"]\n",
    "    comentarios_com_sentimento.append(item)\n",
    "\n",
    "# 4. Salva os resultados em um novo JSON\n",
    "with open(\"comentarios_com_sentimento.json\", \"w\", encoding=\"utf-8\") as f:\n",
    "    json.dump(comentarios_com_sentimento, f, ensure_ascii=False, indent=4)\n",
    "\n",
    "# 5. (Opcional) Visualiza os 5 primeiros com sentimentos\n",
    "for c in comentarios_com_sentimento[:5]:\n",
    "    print(f\"Usuário: {c['usuario']}\\nComentário: {c['comentario']}\\nSentimento: {c['sentimento']} (score: {c['score']:.2f})\\n\")\n"
   ]
  },
  {
   "cell_type": "markdown",
   "id": "468937b9",
   "metadata": {},
   "source": [
    "### Analisado de Sentimentos - Testando o modelo abaixo + 100M de parametros em Pt-Br\n",
    "https://huggingface.co/Adilmar/caramelo-smile-2"
   ]
  },
  {
   "cell_type": "code",
   "execution_count": 7,
   "id": "4074520c",
   "metadata": {},
   "outputs": [],
   "source": [
    "# from transformers import pipeline\n",
    "\n",
    "# # Load the classification pipeline with the specified model\n",
    "# # pipe = pipeline(\"text-classification\", model=\"tabularisai/multilingual-sentiment-analysis\")\n",
    "# pipe = pipeline(\"text-classification\", model=\"Adilmar/caramelo-smile-2\")\n",
    "\n",
    "# # Classify a new sentence\n",
    "# sentence = \"o brasil não é o pra amadores\"\n",
    "# result = pipe(sentence)\n",
    "\n",
    "# # Print the result\n",
    "# print(result)\n"
   ]
  }
 ],
 "metadata": {
  "kernelspec": {
   "display_name": "enviroment",
   "language": "python",
   "name": "python3"
  },
  "language_info": {
   "codemirror_mode": {
    "name": "ipython",
    "version": 3
   },
   "file_extension": ".py",
   "mimetype": "text/x-python",
   "name": "python",
   "nbconvert_exporter": "python",
   "pygments_lexer": "ipython3",
   "version": "3.12.3"
  }
 },
 "nbformat": 4,
 "nbformat_minor": 5
}
