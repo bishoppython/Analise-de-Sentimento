{
 "cells": [
  {
   "cell_type": "markdown",
   "id": "0aa14315",
   "metadata": {},
   "source": [
    "### 1. Extração de Comentários do Instagram\n",
    "##### Versão 1"
   ]
  },
  {
   "cell_type": "code",
   "execution_count": 1,
   "id": "4c5283da",
   "metadata": {},
   "outputs": [],
   "source": [
    "# Funcionando\n",
    "\n",
    "# from instagrapi import Client\n",
    "# from dotenv import load_dotenv\n",
    "# import os\n",
    "\n",
    "# # Carrega variáveis do .env\n",
    "# load_dotenv()\n",
    "\n",
    "# # Recupera usuário e senha do ambiente\n",
    "# username1 = os.getenv(\"INSTAGRAM_USERNAME\")\n",
    "# password1 = os.getenv(\"INSTAGRAM_PASSWORD\")\n",
    "\n",
    "# cl = Client()\n",
    "# cl.login(username1, password1)\n",
    "\n",
    "# media_pk = cl.media_pk_from_url(\"https://www.instagram.com/p/DJukBDyvdbP/\")\n",
    "# comments = cl.media_comments(media_pk)\n",
    "\n",
    "# for comment in comments:\n",
    "#     print(f\"{comment.user.username}: {comment.text}\")"
   ]
  },
  {
   "cell_type": "markdown",
   "id": "8bfa549c",
   "metadata": {},
   "source": [
    "### 2. Extração de Comentários do Instagram\n",
    "##### Versão 2\n",
    "##### Atualização, extrai mais de um link e Salva em Json Comentário + Link da publicação"
   ]
  },
  {
   "cell_type": "code",
   "execution_count": 2,
   "id": "1bc40ccf",
   "metadata": {},
   "outputs": [],
   "source": [
    "# # Funcionando Perfeitamente\n",
    "\n",
    "# from instagrapi import Client\n",
    "# from dotenv import load_dotenv\n",
    "# import os\n",
    "# import json\n",
    "\n",
    "# # Carrega as variáveis de ambiente\n",
    "# load_dotenv()\n",
    "# # Recupera usuário e senha do ambiente\n",
    "# username1 = os.getenv(\"INSTAGRAM_USERNAME\")\n",
    "# password1 = os.getenv(\"INSTAGRAM_PASSWORD\")\n",
    "\n",
    "# # Lista de URLs que você quer extrair os comentários\n",
    "# urls = [\n",
    "#     \"https://www.instagram.com/p/DJukBDyvdbP/\",\n",
    "#     \"https://www.instagram.com/p/DJvIligsVpj/\",\n",
    "#     \"https://www.instagram.com/p/DJp2Q2rRDWY/\",\n",
    "#     \"https://www.instagram.com/p/DJPW4G2RKNA/\"\n",
    "# ]\n",
    "\n",
    "# # Login no Instagram\n",
    "# cl = Client()\n",
    "# cl.login(username1, password1)\n",
    "\n",
    "# # Lista que irá conter todos os dados extraídos\n",
    "# comentarios_extraidos = []\n",
    "\n",
    "# # Itera pelas URLs\n",
    "# for url in urls:\n",
    "#     try:\n",
    "#         media_pk = cl.media_pk_from_url(url)\n",
    "#         comentarios = cl.media_comments(media_pk)\n",
    "\n",
    "#         # Estrutura de saída\n",
    "#         entrada = {\n",
    "#             \"URL\": url,\n",
    "#             \"comentarios\": []\n",
    "#         }\n",
    "\n",
    "#         for comentario in comentarios:\n",
    "#             entrada[\"comentarios\"].append({\n",
    "#                 \"usuario\": comentario.user.username,\n",
    "#                 \"comentario\": comentario.text\n",
    "#             })\n",
    "\n",
    "#         comentarios_extraidos.append(entrada)\n",
    "\n",
    "#     except Exception as e:\n",
    "#         print(f\"Erro ao processar {url}: {e}\")\n",
    "\n",
    "# # Salva no JSON\n",
    "# with open(\"comentarios_instagram.json\", \"w\", encoding=\"utf-8\") as f:\n",
    "#     json.dump(comentarios_extraidos, f, indent=4, ensure_ascii=False)\n",
    "\n",
    "# print(\"Comentários salvos em comentarios_instagram.json\")\n"
   ]
  },
  {
   "cell_type": "markdown",
   "id": "6826b3e9",
   "metadata": {},
   "source": [
    "### 3. Extração de Comentários do Instagram + Perfil\n",
    "##### Versão 3\n",
    "##### Atualização, extrai mais de um link e Salva em Json Comentário + Usuário que comentou + Link da publicação"
   ]
  },
  {
   "cell_type": "code",
   "execution_count": 3,
   "id": "e54e3ce3",
   "metadata": {},
   "outputs": [],
   "source": [
    "# from instagrapi import Client\n",
    "# from dotenv import load_dotenv\n",
    "# import os\n",
    "# import json\n",
    "\n",
    "# # Carrega as variáveis do .env\n",
    "# load_dotenv()\n",
    "# # Recupera usuário e senha do ambiente\n",
    "# username1 = os.getenv(\"INSTAGRAM_USERNAME\")\n",
    "# password1 = os.getenv(\"INSTAGRAM_PASSWORD\")\n",
    "\n",
    "# # Lista de URLs que você quer extrair os comentários\n",
    "# urls = [\n",
    "#     \"https://www.instagram.com/p/DJukBDyvdbP/\",\n",
    "#     \"https://www.instagram.com/p/DJvIligsVpj/\",\n",
    "#     \"https://www.instagram.com/p/DJp2Q2rRDWY/\",\n",
    "#     \"https://www.instagram.com/p/DJPW4G2RKNA/\"\n",
    "# ]\n",
    "\n",
    "# # Login\n",
    "# cl = Client()\n",
    "# cl.login(username1, password1)\n",
    "\n",
    "# comentarios_extraidos = []\n",
    "\n",
    "# for url in urls:\n",
    "#     try:\n",
    "#         media_pk = cl.media_pk_from_url(url)\n",
    "#         media_info = cl.media_info(media_pk)  # Pega info da postagem\n",
    "#         perfil_autor = media_info.user.username  # Nome do perfil da postagem\n",
    "\n",
    "#         comentarios = cl.media_comments(media_pk)\n",
    "\n",
    "#         entrada = {\n",
    "#             \"URL\": url,\n",
    "#             \"perfil_autor\": perfil_autor,\n",
    "#             \"comentarios\": []\n",
    "#         }\n",
    "\n",
    "#         for comentario in comentarios:\n",
    "#             entrada[\"comentarios\"].append({\n",
    "#                 \"usuario\": comentario.user.username,\n",
    "#                 \"comentario\": comentario.text\n",
    "#             })\n",
    "\n",
    "#         comentarios_extraidos.append(entrada)\n",
    "\n",
    "#     except Exception as e:\n",
    "#         print(f\"Erro ao processar {url}: {e}\")\n",
    "\n",
    "# # Salva no JSON\n",
    "# with open(\"comentarios_instagram_pp.json\", \"w\", encoding=\"utf-8\") as f:\n",
    "#     json.dump(comentarios_extraidos, f, indent=4, ensure_ascii=False)\n",
    "\n",
    "# print(\"Comentários salvos em comentarios_instagram.json\")\n"
   ]
  },
  {
   "cell_type": "markdown",
   "id": "49e79e10",
   "metadata": {},
   "source": [
    "### 4. Extração de Comentários do Instagram\n",
    "##### Versão 4\n",
    "##### Atualização, extrai mais de um link e Salva em Json Comentário + Usuário que comentou + Link da publicação + Imagem + Transcrição de Vídeo"
   ]
  },
  {
   "cell_type": "code",
   "execution_count": 4,
   "id": "dd6a2cbf",
   "metadata": {},
   "outputs": [],
   "source": [
    "# pip install -r requirements.txt"
   ]
  },
  {
   "cell_type": "code",
   "execution_count": 5,
   "id": "9de96f7c",
   "metadata": {},
   "outputs": [],
   "source": [
    "# !pip install moviepy"
   ]
  },
  {
   "cell_type": "markdown",
   "id": "df58e11f",
   "metadata": {},
   "source": [
    "##### 📌 1. Login e definição da URL"
   ]
  },
  {
   "cell_type": "code",
   "execution_count": 6,
   "id": "2f5cee55",
   "metadata": {},
   "outputs": [],
   "source": [
    "import os\n",
    "import json\n",
    "import requests\n",
    "from dotenv import load_dotenv\n",
    "from instagrapi import Client\n",
    "from moviepy import VideoFileClip\n",
    "import whisper\n",
    "\n",
    "# Carrega as variáveis do .env\n",
    "load_dotenv()\n",
    "# Recupera usuário e senha do ambiente\n",
    "username1 = os.getenv(\"INSTAGRAM_USERNAME\")\n",
    "password1 = os.getenv(\"INSTAGRAM_PASSWORD\")\n",
    "\n",
    "# Login\n",
    "cl = Client()\n",
    "cl.login(username1, password1)\n",
    "\n",
    "# Lista de URLs que você quer extrair os comentários\n",
    "urls = [\n",
    "    \"https://www.instagram.com/p/DJukBDyvdbP/\",\n",
    "    \"https://www.instagram.com/p/DJvIligsVpj/\",\n",
    "    \"https://www.instagram.com/p/DJp2Q2rRDWY/\",\n",
    "    \"https://www.instagram.com/p/DJPW4G2RKNA/\",\n",
    "    \"https://www.instagram.com/p/DJtfYEVu5DQ/\",\n",
    "    \"https://www.instagram.com/p/DJtf59tsJML/\",\n",
    "    \"https://www.instagram.com/p/DJvLfY1NyfA/\"\n",
    "    \n",
    "]"
   ]
  },
  {
   "cell_type": "markdown",
   "id": "1204b7b5",
   "metadata": {},
   "source": [
    "##### 📌 2. Extração de mídia, tipo e autor"
   ]
  },
  {
   "cell_type": "code",
   "execution_count": 7,
   "id": "da6ac65d",
   "metadata": {},
   "outputs": [
    {
     "name": "stdout",
     "output_type": "stream",
     "text": [
      "Post de @tiiaguinhoo_, Tipo: 1, Mídia: https://instagram.frec7-1.fna.fbcdn.net/v/t51.29350-15/498324724_1217384089841741_6603829629319120517_n.heic?stp=dst-jpg_e35_p1080x1080_tt6&efg=eyJ2ZW5jb2RlX3RhZyI6IkZFRUQuaW1hZ2VfdXJsZ2VuLjE0NDB4MTgwMC5zZHIuZjI5MzUwLmRlZmF1bHRfaW1hZ2UifQ&_nc_ht=instagram.frec7-1.fna.fbcdn.net&_nc_cat=105&_nc_oc=Q6cZ2QG2swAj2mrYcD1SvEIRB6_D2IGPyAFYivH1-dPFWjzJ4qeOFDCqSZk9jWXvamZALBtyBYuf6QxIcXThrx2nTxs_&_nc_ohc=5agdbSgGc7AQ7kNvwFDFD4B&_nc_gid=jfkio0eU-sDvrbwYwyVbMw&edm=ALQROFkBAAAA&ccb=7-5&ig_cache_key=MzYzNDAwMDM1MTgwMDk3MzAwNw%3D%3D.3-ccb7-5&oh=00_AfJULEv4D6SKjWWqlMLL9xzf76oaO_Mj0uNoaZD5AP49iw&oe=682DD6FF&_nc_sid=fc8dfb\n",
      "Post de @sportv, Tipo: 1, Mídia: https://instagram.frec7-1.fna.fbcdn.net/v/t39.30808-6/498689794_1291816435636800_7745890474826802810_n.jpg?stp=dst-jpg_e35_p1080x1080_tt6&efg=eyJ2ZW5jb2RlX3RhZyI6IkZFRUQuaW1hZ2VfdXJsZ2VuLjEyMDB4MTUwMC5zZHIuZjMwODA4LmRlZmF1bHRfaW1hZ2UifQ&_nc_ht=instagram.frec7-1.fna.fbcdn.net&_nc_cat=100&_nc_oc=Q6cZ2QHBke6ySQaYe682msekIxXtCPk16_pRgpKFQg68t-czRHtOpwhDVKHKQ2owepwJ9SdcUCHuvC81vj4XiIcprEV2&_nc_ohc=NW2EVI6CQSgQ7kNvwGdoWsd&_nc_gid=Vw75L6m8eu__bez4G9lSUw&edm=ALQROFkAAAAA&ccb=7-5&ig_cache_key=MzYzNDE2MTE4ODM1OTcyMzYxOQ%3D%3D.3-ccb7-5&oh=00_AfJbKQxQSVLevqmc-oYACe0YtLiPe6h9aCPcgnmV-1C_RA&oe=682DDE6D&_nc_sid=fc8dfb\n",
      "Post de @renatafan, Tipo: 2, Mídia: https://instagram.frec7-1.fna.fbcdn.net/o1/v/t2/f2/m86/AQNjuS2fILSS_OYLaC9NKHYpyjavSJLHeAF4FnE4pNR0b8iCNL4l34WXD8O12wIfq5fLT0FtQUh0jpuQZabTwPyusuhxyj4PAdRxyOM.mp4?_nc_cat=102&_nc_oc=Adk_yEcYvTW0S224doOegcZZfu-yAlmvdxbdEtJLY_ZK8QtMXRptmBLPDkgFmLANjdw-MMWFN6MkB42_u8lGnhds&_nc_sid=5e9851&_nc_ht=instagram.frec7-1.fna.fbcdn.net&_nc_ohc=WtlTUxictLQQ7kNvwGUXYt8&efg=eyJ2ZW5jb2RlX3RhZyI6Inhwdl9wcm9ncmVzc2l2ZS5JTlNUQUdSQU0uQ0xJUFMuQzMuMTI3OC5kYXNoX2Jhc2VsaW5lXzFfdjEiLCJ4cHZfYXNzZXRfaWQiOjEwMjYwODE4NDU4MDMzODUsInZpX3VzZWNhc2VfaWQiOjEwMDk5LCJkdXJhdGlvbl9zIjoxMDUsInVybGdlbl9zb3VyY2UiOiJ3d3cifQ%3D%3D&ccb=17-1&vs=50a4390676d642ab&_nc_vs=HBksFQIYUmlnX3hwdl9yZWVsc19wZXJtYW5lbnRfc3JfcHJvZC84OTRBRDlBOTlERDU4MEY0NjY1OTFFMzI1OERBMDI4Ml92aWRlb19kYXNoaW5pdC5tcDQVAALIAQAVAhg6cGFzc3Rocm91Z2hfZXZlcnN0b3JlL0dMXzlwaDBmRklCUThQTUVBQUNSTW1yaUdYd01icV9FQUFBRhUCAsgBACgAGAAbAogHdXNlX29pbAExEnByb2dyZXNzaXZlX3JlY2lwZQExFQAAJvLl777pzdIDFQIoAkMzLBdAWk1P3ztkWhgSZGFzaF9iYXNlbGluZV8xX3YxEQB1_gdl5p0BAA&_nc_zt=28&oh=00_AfKw1pOUa7PtqieW_5jaQh8ZcUhi5X0VTTh8by58P2Tl0g&oe=6829D173\n",
      "Post de @0bras, Tipo: 8, Mídia: https://instagram.frec7-1.fna.fbcdn.net/v/t51.2885-15/495303300_18159051322361560_6442974200837208502_n.jpg?stp=dst-jpg_e35_p1080x1080_tt6&efg=eyJ2ZW5jb2RlX3RhZyI6IkNBUk9VU0VMX0lURU0uaW1hZ2VfdXJsZ2VuLjEyODR4MTQzNS5zZHIuZjc1NzYxLmRlZmF1bHRfaW1hZ2UifQ&_nc_ht=instagram.frec7-1.fna.fbcdn.net&_nc_cat=104&_nc_oc=Q6cZ2QGpwUCcpCeisOORN7LD-0DrHU-pS28T6oNuJTxQBLbq9bYOHqGdMvT-jYdvVPIsFcwWFE911R8CNmiBbrXlRSLi&_nc_ohc=oq4_PGwn7zcQ7kNvwGRm4QA&_nc_gid=_x4Rio-5M1xajHVSORGyzA&edm=ALQROFkBAAAA&ccb=7-5&ig_cache_key=MzYyNTIxNjgxOTU0NTMxNTExNw%3D%3D.3-ccb7-5&oh=00_AfLf8NyzNf6v10lAw30RK8QVZwqRUpWF635uxdwJ-Cvbow&oe=682DBC12&_nc_sid=fc8dfb\n",
      "Post de @caruaruagora, Tipo: 1, Mídia: https://instagram.frec7-1.fna.fbcdn.net/v/t51.2885-15/498011804_18482013355069238_6216026697347984256_n.jpg?stp=dst-jpg_e35_s1080x1080_tt6&efg=eyJ2ZW5jb2RlX3RhZyI6IkZFRUQuaW1hZ2VfdXJsZ2VuLjE0NDB4MTQ0MC5zZHIuZjc1NzYxLmRlZmF1bHRfaW1hZ2UifQ&_nc_ht=instagram.frec7-1.fna.fbcdn.net&_nc_cat=102&_nc_oc=Q6cZ2QEka4HLK3eFS4lTxoSOJeOa3faPcRsa5I0c7Z3Imy8-dwTdPCNiLG20kh_zo-mN9r6710q9z_pTYwmZfxv9syld&_nc_ohc=s63SNK4aQ30Q7kNvwHU5MbF&_nc_gid=LwK4dcb5G4CgUAS0sv9sqg&edm=ALQROFkBAAAA&ccb=7-5&ig_cache_key=MzYzMzY5ODQ2NzcyNjcyNTMyOA%3D%3D.3-ccb7-5&oh=00_AfJ6YnqTvFafp7FUidATYHYGrKy3Ff9fYzyLajU3kzpvlw&oe=682DD83C&_nc_sid=fc8dfb\n",
      "Post de @tvjornalinteriorsbt, Tipo: 8, Mídia: https://instagram.frec7-1.fna.fbcdn.net/v/t51.2885-15/499415221_18466220077077336_3193386752413232786_n.jpg?se=7&stp=dst-jpg_e35_tt6&efg=eyJ2ZW5jb2RlX3RhZyI6IkNBUk9VU0VMX0lURU0uaW1hZ2VfdXJsZ2VuLjEwODB4MTM1MC5zZHIuZjc1NzYxLmRlZmF1bHRfaW1hZ2UifQ&_nc_ht=instagram.frec7-1.fna.fbcdn.net&_nc_cat=100&_nc_oc=Q6cZ2QH5VuLAmmcSuQnd9qSUzZQ7D6WcZ35hk5d8TBwdhqNYKvXcs4-3CIl4QItyXQ80GGToOehuwzZFhq8BnVm9hY7-&_nc_ohc=UZrDqWSzvBwQ7kNvwHVu3ad&_nc_gid=EjX92r3FCPI7PC4tn66k4A&edm=ALQROFkBAAAA&ccb=7-5&ig_cache_key=MzYzMzcwMDM2MjMzNTMyMjcxNQ%3D%3D.3-ccb7-5&oh=00_AfK-qlzdxqgsWcwtZT7pkiCtQqERwRaL0dBYAzpOgTyJgQ&oe=682DE860&_nc_sid=fc8dfb\n",
      "Post de @caruarunoface, Tipo: 2, Mídia: https://instagram.frec7-1.fna.fbcdn.net/o1/v/t2/f2/m86/AQNM5HkuAooiA5iAhsVyHvS8yQLMye7l3sHHFiecREbtWVAa18g4dO5bIBVpyZaQMtM4cR9P78hFYkW-4qw-bZzhwdHI-uYcJ-MNxGk.mp4?_nc_cat=109&_nc_oc=AdkOnhBG7JXRh17U5-pclRQAKQG-RawdCdgSdBFlrg27BiWK8Qqh19KKhJySQCRKR3L1slTLVv01iNliepBTq1OU&_nc_sid=5e9851&_nc_ht=instagram.frec7-1.fna.fbcdn.net&_nc_ohc=1N5dPjR5rdMQ7kNvwE0fQQE&efg=eyJ2ZW5jb2RlX3RhZyI6Inhwdl9wcm9ncmVzc2l2ZS5JTlNUQUdSQU0uQ0xJUFMuQzMuMTI4MC5kYXNoX2Jhc2VsaW5lXzFfdjEiLCJ4cHZfYXNzZXRfaWQiOjU0MTc1NTUxMjE0NTA3MywidmlfdXNlY2FzZV9pZCI6MTAwOTksImR1cmF0aW9uX3MiOjE3NywidXJsZ2VuX3NvdXJjZSI6Ind3dyJ9&ccb=17-1&vs=e7d046f1bdc67ba2&_nc_vs=HBksFQIYUmlnX3hwdl9yZWVsc19wZXJtYW5lbnRfc3JfcHJvZC8yMzREM0QxRTA0NDE3OUNGNThGOTc3NzJCN0JFM0FBN192aWRlb19kYXNoaW5pdC5tcDQVAALIAQAVAhg6cGFzc3Rocm91Z2hfZXZlcnN0b3JlL0dKUTlyaDNfNmh4MU5XWUVBR0VWZFU5SnhwNWVicV9FQUFBRhUCAsgBACgAGAAbAogHdXNlX29pbAExEnByb2dyZXNzaXZlX3JlY2lwZQExFQAAJuKS2o2prvYBFQIoAkMzLBdAZisSbpeNUBgSZGFzaF9iYXNlbGluZV8xX3YxEQB1_gdl5p0BAA&_nc_zt=28&oh=00_AfLhr7vD78o4qQs1X-E5lPuDThyP4nqHJgJrA1DY7kKFig&oe=6829C6DE\n"
     ]
    }
   ],
   "source": [
    "import requests\n",
    "\n",
    "for url in urls:\n",
    "    media_pk = cl.media_pk_from_url(url)\n",
    "    media_info = cl.media_info(media_pk)\n",
    "\n",
    "    perfil_autor = media_info.user.username\n",
    "    tipo_conteudo = media_info.media_type  # 1: imagem, 2: vídeo, 8: carrossel\n",
    "\n",
    "    if tipo_conteudo == 2:\n",
    "        midia_url = media_info.video_url\n",
    "    elif tipo_conteudo == 1:\n",
    "        midia_url = media_info.thumbnail_url\n",
    "    elif tipo_conteudo == 8:\n",
    "        midia_url = media_info.resources[0].thumbnail_url\n",
    "    else:\n",
    "        midia_url = \"não reconhecido\"\n",
    "\n",
    "    print(f\"Post de @{perfil_autor}, Tipo: {tipo_conteudo}, Mídia: {midia_url}\")\n"
   ]
  },
  {
   "cell_type": "markdown",
   "id": "91eab7c1",
   "metadata": {},
   "source": [
    "##### 📌 3. Transcrição de vídeo (se for vídeo)"
   ]
  },
  {
   "cell_type": "code",
   "execution_count": 9,
   "id": "0a11366a",
   "metadata": {},
   "outputs": [
    {
     "name": "stdout",
     "output_type": "stream",
     "text": [
      "{'video_found': True, 'audio_found': True, 'metadata': {'major_brand': 'isom', 'minor_version': '512', 'compatible_brands': 'isomiso2avc1mp41'}, 'inputs': [{'streams': [{'input_number': 0, 'stream_number': 0, 'stream_type': 'video', 'language': None, 'default': True, 'size': [1280, 720], 'bitrate': 2027, 'fps': 26.0, 'codec_name': 'h264', 'profile': '(High)', 'metadata': {'Metadata': '', 'handler_name': 'VideoHandler', 'vendor_id': '[0][0][0][0]', 'encoder': 'AVC Coding'}}, {'input_number': 0, 'stream_number': 1, 'stream_type': 'audio', 'language': None, 'default': True, 'fps': 44100, 'bitrate': 60, 'metadata': {'Metadata': '', 'handler_name': 'SoundHandler', 'vendor_id': '[0][0][0][0]'}}], 'input_number': 0}], 'duration': 177.47, 'bitrate': 2091, 'start': 0.0, 'default_video_input_number': 0, 'default_video_stream_number': 0, 'video_codec_name': 'h264', 'video_profile': '(High)', 'video_size': [1280, 720], 'video_bitrate': 2027, 'video_fps': 26.0, 'default_audio_input_number': 0, 'default_audio_stream_number': 1, 'audio_fps': 44100, 'audio_bitrate': 60, 'video_duration': 177.47, 'video_n_frames': 4614}\n",
      "/mnt/A06815BA68159060/MindSolutions - StartUP/ANALISE SENTIMENTO/enviroment/lib/python3.12/site-packages/imageio_ffmpeg/binaries/ffmpeg-linux-x86_64-v7.0.2 -i video_temp.mp4 -loglevel error -f image2pipe -vf scale=1280:720 -sws_flags bicubic -pix_fmt rgb24 -vcodec rawvideo -\n",
      "MoviePy - Writing audio in audio_temp.wav\n"
     ]
    },
    {
     "name": "stderr",
     "output_type": "stream",
     "text": [
      "                                                                      \r"
     ]
    },
    {
     "name": "stdout",
     "output_type": "stream",
     "text": [
      "MoviePy - Done.\n"
     ]
    },
    {
     "name": "stderr",
     "output_type": "stream",
     "text": [
      "100%|███████████████████████████████████████| 139M/139M [00:06<00:00, 24.1MiB/s]\n",
      "/mnt/A06815BA68159060/MindSolutions - StartUP/ANALISE SENTIMENTO/enviroment/lib/python3.12/site-packages/whisper/transcribe.py:126: UserWarning: FP16 is not supported on CPU; using FP32 instead\n",
      "  warnings.warn(\"FP16 is not supported on CPU; using FP32 instead\")\n"
     ]
    },
    {
     "name": "stdout",
     "output_type": "stream",
     "text": [
      "Transcrição:  queridos telespectadores dando continuidade as informações já repassadas aqui no portal CNF precisando de crédito pra financiar o seu veículo vem pra JTZ a melhor financeira do Brasil nós repornamos aqui no local de um triple homicídio resistrado no loteamento copa cabana na realidade de acordo com os moradores na avenida água branca três homens foram executados atiros observem nas imagens do CNF viaturas do quarto BPM já no local e os jápazes foram identificados e atenção os irmãos David e Manuel da Silva tinha 23 anos e morava na residência onde o fato aconteceu o irmão dele Eduardo Manuel da Silva tem 19 anos além do primo identificado como Fernando José da Silva que tinha 28 anos policiais militares permanecem no local onde o local já está sendo isolado aguardando a chegada da perícia criminal observa a distância os policiais estão ali conversando exatamente buscando a autoria deste ato covarde cruel três pessoas executadas na frente da residência e aí consequentemente os policiais militares já passaram outras informações e aí há qualquer momento a chegada de um delegado da divisão de homicídios para dar início às investigações nesse ato desse triple homicídio resistrado nesta noite de sexta-feira aqui na cidade de Caru Barul e aí a polícia científica a perícia será realizada no local não sabemos ainda a quantidade de tiros nos copos das três ritmos mais lamentablemente esta violência é resistrada nesta noite de sexta-feira aqui na cidade de Caru Barul vamos permanecer aqui no local da João Henrique aguardando a chegada de outras autoridades para exatamente acompanhar o a motivação e o que ouve nesse triple homicídio aqui a informações aqui na localidade que as pessoas estavam em frente à residência exatamente do David de Manuel da Silva de vinte e três anos e acompanhado no irmão é do ardo é do ardo Manuel da Silva dezenove anos e o primo também quando dois individros chegaram de forma muito rápida ocupando o morto e realizaram a execução os apases não tiveram chance de defesa e mortes no local poderemos retornar a qualquer momento jota de veículos está mais de vinte anos no mercado atuando do segmento de financiamento de veículos novos e tem novos sempre buscando a melhor cotação de juros para você trabalhamos com as melhores financieras do país e cobrimos qualquer oferta faça a simulação e comproves precisando de crédito para financiar o seu veículo vem para JPG a melhor financiera do bravio\n"
     ]
    }
   ],
   "source": [
    "from moviepy import VideoFileClip\n",
    "import whisper\n",
    "\n",
    "transcricao = \"\"\n",
    "\n",
    "if tipo_conteudo == 2:\n",
    "    video_path = \"video_temp.mp4\"\n",
    "    audio_path = \"audio_temp.wav\"\n",
    "\n",
    "    # Baixar vídeo\n",
    "    with open(video_path, \"wb\") as f:\n",
    "        f.write(requests.get(midia_url).content)\n",
    "\n",
    "    # Extrair áudio\n",
    "    video = VideoFileClip(video_path)\n",
    "    # video.audio.write_audiofile(audio_path, verbose=False, logger=None)\n",
    "    video.audio.write_audiofile(audio_path)\n",
    "\n",
    "\n",
    "    # Transcrever com Whisper\n",
    "    model = whisper.load_model(\"base\")\n",
    "    result = model.transcribe(audio_path)\n",
    "    transcricao = result[\"text\"]\n",
    "\n",
    "    print(\"Transcrição:\", transcricao)\n",
    "\n",
    "    # Limpeza\n",
    "    os.remove(video_path)\n",
    "    os.remove(audio_path)\n"
   ]
  },
  {
   "cell_type": "markdown",
   "id": "a6917aa3",
   "metadata": {},
   "source": [
    "##### 📌 4. Extração de comentários e salvamento JSON"
   ]
  },
  {
   "cell_type": "code",
   "execution_count": 10,
   "id": "1d34c89d",
   "metadata": {},
   "outputs": [
    {
     "name": "stdout",
     "output_type": "stream",
     "text": [
      "JSON salvo com sucesso!\n"
     ]
    }
   ],
   "source": [
    "import json\n",
    "\n",
    "comentarios = cl.media_comments(media_pk)\n",
    "lista_comentarios = []\n",
    "\n",
    "for c in comentarios:\n",
    "    lista_comentarios.append({\n",
    "        \"usuario\": c.user.username,\n",
    "        \"comentario\": c.text\n",
    "    })\n",
    "\n",
    "dados = {\n",
    "    \"URL\": url,\n",
    "    \"perfil_autor\": perfil_autor,\n",
    "    \"tipo_conteudo\": tipo_conteudo,\n",
    "    \"midia_url\": str(midia_url),\n",
    "    \"transcricao\": transcricao,\n",
    "    \"comentarios\": lista_comentarios\n",
    "}\n",
    "\n",
    "\n",
    "with open(\"comentarios_instagram_completo_midias.json\", \"w\", encoding=\"utf-8\") as f:\n",
    "    json.dump([dados], f, indent=4, ensure_ascii=False)\n",
    "\n",
    "print(\"JSON salvo com sucesso!\")"
   ]
  }
 ],
 "metadata": {
  "kernelspec": {
   "display_name": "enviroment",
   "language": "python",
   "name": "python3"
  },
  "language_info": {
   "codemirror_mode": {
    "name": "ipython",
    "version": 3
   },
   "file_extension": ".py",
   "mimetype": "text/x-python",
   "name": "python",
   "nbconvert_exporter": "python",
   "pygments_lexer": "ipython3",
   "version": "3.12.3"
  }
 },
 "nbformat": 4,
 "nbformat_minor": 5
}
